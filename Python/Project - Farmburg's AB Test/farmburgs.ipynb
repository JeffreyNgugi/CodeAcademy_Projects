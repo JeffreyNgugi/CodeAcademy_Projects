{
 "metadata": {
  "language_info": {
   "codemirror_mode": {
    "name": "ipython",
    "version": 3
   },
   "file_extension": ".py",
   "mimetype": "text/x-python",
   "name": "python",
   "nbconvert_exporter": "python",
   "pygments_lexer": "ipython3",
   "version": "3.8.5-final"
  },
  "orig_nbformat": 2,
  "kernelspec": {
   "name": "python37864bit4a276fa124aa40d8bbc006095d71a4e9",
   "display_name": "Python 3.7.8 64-bit"
  }
 },
 "nbformat": 4,
 "nbformat_minor": 2,
 "cells": [
  {
   "cell_type": "code",
   "execution_count": 63,
   "metadata": {},
   "outputs": [],
   "source": [
    "import pandas as pd\n",
    "import numpy as np"
   ]
  },
  {
   "cell_type": "code",
   "execution_count": 64,
   "metadata": {},
   "outputs": [],
   "source": [
    "df = pd.read_csv('clicks.csv')"
   ]
  },
  {
   "cell_type": "code",
   "execution_count": 65,
   "metadata": {},
   "outputs": [
    {
     "output_type": "execute_result",
     "data": {
      "text/plain": "                                   user_id group click_day\n0     8e27bf9a-5b6e-41ed-801a-a59979c0ca98     A       NaN\n1     eb89e6f0-e682-4f79-99b1-161cc1c096f1     A       NaN\n2     7119106a-7a95-417b-8c4c-092c12ee5ef7     A       NaN\n3     e53781ff-ff7a-4fcd-af1a-adba02b2b954     A       NaN\n4     02d48cf1-1ae6-40b3-9d8b-8208884a0904     A  Saturday\n...                                    ...   ...       ...\n4993  1f6fd5aa-f664-4e7a-aa97-112572085691     C       NaN\n4994  ad76e16a-b28f-4eab-9271-cb505e50fbcf     C       NaN\n4995  c9254ed4-e47f-4c31-b541-67afb66ce273     C       NaN\n4996  e734362b-42b9-4ec5-81e9-3b7ab326478e     C       NaN\n4997  36b4f7d6-a150-4db0-a34b-82afe767b584     C       NaN\n\n[4998 rows x 3 columns]",
      "text/html": "<div>\n<style scoped>\n    .dataframe tbody tr th:only-of-type {\n        vertical-align: middle;\n    }\n\n    .dataframe tbody tr th {\n        vertical-align: top;\n    }\n\n    .dataframe thead th {\n        text-align: right;\n    }\n</style>\n<table border=\"1\" class=\"dataframe\">\n  <thead>\n    <tr style=\"text-align: right;\">\n      <th></th>\n      <th>user_id</th>\n      <th>group</th>\n      <th>click_day</th>\n    </tr>\n  </thead>\n  <tbody>\n    <tr>\n      <th>0</th>\n      <td>8e27bf9a-5b6e-41ed-801a-a59979c0ca98</td>\n      <td>A</td>\n      <td>NaN</td>\n    </tr>\n    <tr>\n      <th>1</th>\n      <td>eb89e6f0-e682-4f79-99b1-161cc1c096f1</td>\n      <td>A</td>\n      <td>NaN</td>\n    </tr>\n    <tr>\n      <th>2</th>\n      <td>7119106a-7a95-417b-8c4c-092c12ee5ef7</td>\n      <td>A</td>\n      <td>NaN</td>\n    </tr>\n    <tr>\n      <th>3</th>\n      <td>e53781ff-ff7a-4fcd-af1a-adba02b2b954</td>\n      <td>A</td>\n      <td>NaN</td>\n    </tr>\n    <tr>\n      <th>4</th>\n      <td>02d48cf1-1ae6-40b3-9d8b-8208884a0904</td>\n      <td>A</td>\n      <td>Saturday</td>\n    </tr>\n    <tr>\n      <th>...</th>\n      <td>...</td>\n      <td>...</td>\n      <td>...</td>\n    </tr>\n    <tr>\n      <th>4993</th>\n      <td>1f6fd5aa-f664-4e7a-aa97-112572085691</td>\n      <td>C</td>\n      <td>NaN</td>\n    </tr>\n    <tr>\n      <th>4994</th>\n      <td>ad76e16a-b28f-4eab-9271-cb505e50fbcf</td>\n      <td>C</td>\n      <td>NaN</td>\n    </tr>\n    <tr>\n      <th>4995</th>\n      <td>c9254ed4-e47f-4c31-b541-67afb66ce273</td>\n      <td>C</td>\n      <td>NaN</td>\n    </tr>\n    <tr>\n      <th>4996</th>\n      <td>e734362b-42b9-4ec5-81e9-3b7ab326478e</td>\n      <td>C</td>\n      <td>NaN</td>\n    </tr>\n    <tr>\n      <th>4997</th>\n      <td>36b4f7d6-a150-4db0-a34b-82afe767b584</td>\n      <td>C</td>\n      <td>NaN</td>\n    </tr>\n  </tbody>\n</table>\n<p>4998 rows × 3 columns</p>\n</div>"
     },
     "metadata": {},
     "execution_count": 65
    }
   ],
   "source": [
    "df"
   ]
  },
  {
   "cell_type": "code",
   "execution_count": 66,
   "metadata": {
    "tags": []
   },
   "outputs": [
    {
     "output_type": "execute_result",
     "data": {
      "text/plain": "                                user_id group click_day\n0  8e27bf9a-5b6e-41ed-801a-a59979c0ca98     A       NaN\n1  eb89e6f0-e682-4f79-99b1-161cc1c096f1     A       NaN\n2  7119106a-7a95-417b-8c4c-092c12ee5ef7     A       NaN\n3  e53781ff-ff7a-4fcd-af1a-adba02b2b954     A       NaN\n4  02d48cf1-1ae6-40b3-9d8b-8208884a0904     A  Saturday",
      "text/html": "<div>\n<style scoped>\n    .dataframe tbody tr th:only-of-type {\n        vertical-align: middle;\n    }\n\n    .dataframe tbody tr th {\n        vertical-align: top;\n    }\n\n    .dataframe thead th {\n        text-align: right;\n    }\n</style>\n<table border=\"1\" class=\"dataframe\">\n  <thead>\n    <tr style=\"text-align: right;\">\n      <th></th>\n      <th>user_id</th>\n      <th>group</th>\n      <th>click_day</th>\n    </tr>\n  </thead>\n  <tbody>\n    <tr>\n      <th>0</th>\n      <td>8e27bf9a-5b6e-41ed-801a-a59979c0ca98</td>\n      <td>A</td>\n      <td>NaN</td>\n    </tr>\n    <tr>\n      <th>1</th>\n      <td>eb89e6f0-e682-4f79-99b1-161cc1c096f1</td>\n      <td>A</td>\n      <td>NaN</td>\n    </tr>\n    <tr>\n      <th>2</th>\n      <td>7119106a-7a95-417b-8c4c-092c12ee5ef7</td>\n      <td>A</td>\n      <td>NaN</td>\n    </tr>\n    <tr>\n      <th>3</th>\n      <td>e53781ff-ff7a-4fcd-af1a-adba02b2b954</td>\n      <td>A</td>\n      <td>NaN</td>\n    </tr>\n    <tr>\n      <th>4</th>\n      <td>02d48cf1-1ae6-40b3-9d8b-8208884a0904</td>\n      <td>A</td>\n      <td>Saturday</td>\n    </tr>\n  </tbody>\n</table>\n</div>"
     },
     "metadata": {},
     "execution_count": 66
    }
   ],
   "source": [
    "df.head()"
   ]
  },
  {
   "cell_type": "markdown",
   "metadata": {},
   "source": [
    "## Applying check for NaN function on dataframe columns"
   ]
  },
  {
   "cell_type": "code",
   "execution_count": 67,
   "metadata": {},
   "outputs": [],
   "source": [
    "# Method 1\n",
    "df['is_purchase'] = df.apply(lambda x: 'Purchase' if pd.notnull(x['click_day']) else 'No Purchase',axis = 1)"
   ]
  },
  {
   "cell_type": "code",
   "execution_count": 68,
   "metadata": {},
   "outputs": [
    {
     "output_type": "execute_result",
     "data": {
      "text/plain": "                                   user_id group click_day  is_purchase\n0     8e27bf9a-5b6e-41ed-801a-a59979c0ca98     A       NaN  No Purchase\n1     eb89e6f0-e682-4f79-99b1-161cc1c096f1     A       NaN  No Purchase\n2     7119106a-7a95-417b-8c4c-092c12ee5ef7     A       NaN  No Purchase\n3     e53781ff-ff7a-4fcd-af1a-adba02b2b954     A       NaN  No Purchase\n4     02d48cf1-1ae6-40b3-9d8b-8208884a0904     A  Saturday     Purchase\n...                                    ...   ...       ...          ...\n4993  1f6fd5aa-f664-4e7a-aa97-112572085691     C       NaN  No Purchase\n4994  ad76e16a-b28f-4eab-9271-cb505e50fbcf     C       NaN  No Purchase\n4995  c9254ed4-e47f-4c31-b541-67afb66ce273     C       NaN  No Purchase\n4996  e734362b-42b9-4ec5-81e9-3b7ab326478e     C       NaN  No Purchase\n4997  36b4f7d6-a150-4db0-a34b-82afe767b584     C       NaN  No Purchase\n\n[4998 rows x 4 columns]",
      "text/html": "<div>\n<style scoped>\n    .dataframe tbody tr th:only-of-type {\n        vertical-align: middle;\n    }\n\n    .dataframe tbody tr th {\n        vertical-align: top;\n    }\n\n    .dataframe thead th {\n        text-align: right;\n    }\n</style>\n<table border=\"1\" class=\"dataframe\">\n  <thead>\n    <tr style=\"text-align: right;\">\n      <th></th>\n      <th>user_id</th>\n      <th>group</th>\n      <th>click_day</th>\n      <th>is_purchase</th>\n    </tr>\n  </thead>\n  <tbody>\n    <tr>\n      <th>0</th>\n      <td>8e27bf9a-5b6e-41ed-801a-a59979c0ca98</td>\n      <td>A</td>\n      <td>NaN</td>\n      <td>No Purchase</td>\n    </tr>\n    <tr>\n      <th>1</th>\n      <td>eb89e6f0-e682-4f79-99b1-161cc1c096f1</td>\n      <td>A</td>\n      <td>NaN</td>\n      <td>No Purchase</td>\n    </tr>\n    <tr>\n      <th>2</th>\n      <td>7119106a-7a95-417b-8c4c-092c12ee5ef7</td>\n      <td>A</td>\n      <td>NaN</td>\n      <td>No Purchase</td>\n    </tr>\n    <tr>\n      <th>3</th>\n      <td>e53781ff-ff7a-4fcd-af1a-adba02b2b954</td>\n      <td>A</td>\n      <td>NaN</td>\n      <td>No Purchase</td>\n    </tr>\n    <tr>\n      <th>4</th>\n      <td>02d48cf1-1ae6-40b3-9d8b-8208884a0904</td>\n      <td>A</td>\n      <td>Saturday</td>\n      <td>Purchase</td>\n    </tr>\n    <tr>\n      <th>...</th>\n      <td>...</td>\n      <td>...</td>\n      <td>...</td>\n      <td>...</td>\n    </tr>\n    <tr>\n      <th>4993</th>\n      <td>1f6fd5aa-f664-4e7a-aa97-112572085691</td>\n      <td>C</td>\n      <td>NaN</td>\n      <td>No Purchase</td>\n    </tr>\n    <tr>\n      <th>4994</th>\n      <td>ad76e16a-b28f-4eab-9271-cb505e50fbcf</td>\n      <td>C</td>\n      <td>NaN</td>\n      <td>No Purchase</td>\n    </tr>\n    <tr>\n      <th>4995</th>\n      <td>c9254ed4-e47f-4c31-b541-67afb66ce273</td>\n      <td>C</td>\n      <td>NaN</td>\n      <td>No Purchase</td>\n    </tr>\n    <tr>\n      <th>4996</th>\n      <td>e734362b-42b9-4ec5-81e9-3b7ab326478e</td>\n      <td>C</td>\n      <td>NaN</td>\n      <td>No Purchase</td>\n    </tr>\n    <tr>\n      <th>4997</th>\n      <td>36b4f7d6-a150-4db0-a34b-82afe767b584</td>\n      <td>C</td>\n      <td>NaN</td>\n      <td>No Purchase</td>\n    </tr>\n  </tbody>\n</table>\n<p>4998 rows × 4 columns</p>\n</div>"
     },
     "metadata": {},
     "execution_count": 68
    }
   ],
   "source": [
    "df"
   ]
  },
  {
   "cell_type": "code",
   "execution_count": 69,
   "metadata": {},
   "outputs": [],
   "source": [
    "#Method 2\n",
    "#df['ispurchase2'] = np.where(df['click_day'].isnull(), 'No purchase', 'Purchase')"
   ]
  },
  {
   "cell_type": "code",
   "execution_count": 70,
   "metadata": {},
   "outputs": [
    {
     "output_type": "execute_result",
     "data": {
      "text/plain": "array(['A', 'B', 'C'], dtype=object)"
     },
     "metadata": {},
     "execution_count": 70
    }
   ],
   "source": [
    "df['group'].unique()"
   ]
  },
  {
   "cell_type": "code",
   "execution_count": 82,
   "metadata": {},
   "outputs": [],
   "source": [
    "purchase_counts = df.groupby(['group','is_purchase']).user_id.count().reset_index()"
   ]
  },
  {
   "cell_type": "code",
   "execution_count": 83,
   "metadata": {},
   "outputs": [
    {
     "output_type": "execute_result",
     "data": {
      "text/plain": "  group  is_purchase  user_id\n0     A  No Purchase     1350\n1     A     Purchase      316\n2     B  No Purchase     1483\n3     B     Purchase      183\n4     C  No Purchase     1583\n5     C     Purchase       83",
      "text/html": "<div>\n<style scoped>\n    .dataframe tbody tr th:only-of-type {\n        vertical-align: middle;\n    }\n\n    .dataframe tbody tr th {\n        vertical-align: top;\n    }\n\n    .dataframe thead th {\n        text-align: right;\n    }\n</style>\n<table border=\"1\" class=\"dataframe\">\n  <thead>\n    <tr style=\"text-align: right;\">\n      <th></th>\n      <th>group</th>\n      <th>is_purchase</th>\n      <th>user_id</th>\n    </tr>\n  </thead>\n  <tbody>\n    <tr>\n      <th>0</th>\n      <td>A</td>\n      <td>No Purchase</td>\n      <td>1350</td>\n    </tr>\n    <tr>\n      <th>1</th>\n      <td>A</td>\n      <td>Purchase</td>\n      <td>316</td>\n    </tr>\n    <tr>\n      <th>2</th>\n      <td>B</td>\n      <td>No Purchase</td>\n      <td>1483</td>\n    </tr>\n    <tr>\n      <th>3</th>\n      <td>B</td>\n      <td>Purchase</td>\n      <td>183</td>\n    </tr>\n    <tr>\n      <th>4</th>\n      <td>C</td>\n      <td>No Purchase</td>\n      <td>1583</td>\n    </tr>\n    <tr>\n      <th>5</th>\n      <td>C</td>\n      <td>Purchase</td>\n      <td>83</td>\n    </tr>\n  </tbody>\n</table>\n</div>"
     },
     "metadata": {},
     "execution_count": 83
    }
   ],
   "source": [
    "purchase_counts"
   ]
  },
  {
   "cell_type": "markdown",
   "metadata": {},
   "source": [
    "## Performing a Significance Test"
   ]
  },
  {
   "cell_type": "code",
   "execution_count": 84,
   "metadata": {},
   "outputs": [],
   "source": [
    "from scipy.stats import chi2_contingency"
   ]
  },
  {
   "cell_type": "code",
   "execution_count": 85,
   "metadata": {},
   "outputs": [],
   "source": [
    "contigency = [[316,1350],\n",
    "              [183,1483],\n",
    "              [83,1583]]"
   ]
  },
  {
   "cell_type": "code",
   "execution_count": 86,
   "metadata": {},
   "outputs": [],
   "source": [
    "chi2, pvalue, dof, expected = chi2_contingency(contigency)"
   ]
  },
  {
   "cell_type": "code",
   "execution_count": 87,
   "metadata": {},
   "outputs": [
    {
     "output_type": "execute_result",
     "data": {
      "text/plain": "2.4126213546684264e-35"
     },
     "metadata": {},
     "execution_count": 87
    }
   ],
   "source": [
    "pvalue"
   ]
  },
  {
   "cell_type": "code",
   "execution_count": 98,
   "metadata": {},
   "outputs": [],
   "source": [
    "t = lambda x : True if x < 0.05 else False    "
   ]
  },
  {
   "cell_type": "code",
   "execution_count": 99,
   "metadata": {},
   "outputs": [],
   "source": [
    "is_significant = t(pvalue)"
   ]
  },
  {
   "cell_type": "code",
   "execution_count": 100,
   "metadata": {},
   "outputs": [
    {
     "output_type": "execute_result",
     "data": {
      "text/plain": "True"
     },
     "metadata": {},
     "execution_count": 100
    }
   ],
   "source": [
    "is_significant"
   ]
  },
  {
   "cell_type": "code",
   "execution_count": 91,
   "metadata": {},
   "outputs": [],
   "source": [
    "# Confirmation\n",
    "\n",
    "def is_sig(x):\n",
    "    if x < 0.05:\n",
    "        return True\n",
    "    elif x > 0.05:\n",
    "        return False\n",
    "    else:\n",
    "        return 'Equal'"
   ]
  },
  {
   "cell_type": "code",
   "execution_count": 92,
   "metadata": {},
   "outputs": [],
   "source": [
    "is_sign = is_sig(pvalue)"
   ]
  },
  {
   "cell_type": "code",
   "execution_count": 93,
   "metadata": {},
   "outputs": [
    {
     "output_type": "execute_result",
     "data": {
      "text/plain": "True"
     },
     "metadata": {},
     "execution_count": 93
    }
   ],
   "source": [
    "is_sign"
   ]
  },
  {
   "cell_type": "markdown",
   "metadata": {},
   "source": [
    "## Calculating Necessary Purchase Rates"
   ]
  },
  {
   "cell_type": "code",
   "execution_count": 101,
   "metadata": {},
   "outputs": [],
   "source": [
    "num_visits = len(df['user_id'])"
   ]
  },
  {
   "cell_type": "code",
   "execution_count": 102,
   "metadata": {},
   "outputs": [
    {
     "output_type": "execute_result",
     "data": {
      "text/plain": "4998"
     },
     "metadata": {},
     "execution_count": 102
    }
   ],
   "source": [
    "num_visits"
   ]
  },
  {
   "cell_type": "code",
   "execution_count": 104,
   "metadata": {},
   "outputs": [],
   "source": [
    "clicks_099 = 1000/0.99\n",
    "clicks_199 = 1000/1.99\n",
    "clicks_499 = 1000/4.99"
   ]
  },
  {
   "cell_type": "code",
   "execution_count": 108,
   "metadata": {},
   "outputs": [],
   "source": [
    "p_clicks_099 = clicks_099 / num_visits\n",
    "p_clicks_199 = clicks_199 / num_visits\n",
    "p_clicks_499 = clicks_499 / num_visits"
   ]
  },
  {
   "cell_type": "code",
   "execution_count": 109,
   "metadata": {},
   "outputs": [
    {
     "output_type": "execute_result",
     "data": {
      "text/plain": "0.20210104243717691"
     },
     "metadata": {},
     "execution_count": 109
    }
   ],
   "source": [
    "p_clicks_099"
   ]
  },
  {
   "cell_type": "code",
   "execution_count": 110,
   "metadata": {},
   "outputs": [
    {
     "output_type": "execute_result",
     "data": {
      "text/plain": "0.10054272965467594"
     },
     "metadata": {},
     "execution_count": 110
    }
   ],
   "source": [
    "p_clicks_199"
   ]
  },
  {
   "cell_type": "code",
   "execution_count": 111,
   "metadata": {},
   "outputs": [
    {
     "output_type": "execute_result",
     "data": {
      "text/plain": "0.040096198800161346"
     },
     "metadata": {},
     "execution_count": 111
    }
   ],
   "source": [
    "p_clicks_499"
   ]
  },
  {
   "cell_type": "markdown",
   "metadata": {},
   "source": [
    "## Performing a Significance Test II"
   ]
  },
  {
   "cell_type": "code",
   "execution_count": 112,
   "metadata": {},
   "outputs": [],
   "source": [
    "from scipy.stats import binom_test"
   ]
  },
  {
   "cell_type": "code",
   "execution_count": 117,
   "metadata": {
    "tags": []
   },
   "outputs": [
    {
     "output_type": "stream",
     "name": "stdout",
     "text": "0.2111287299402726\n"
    }
   ],
   "source": [
    "pvalueA = binom_test(316, n = 1666,p = p_clicks_099)\n",
    "print(pvalueA)"
   ]
  },
  {
   "cell_type": "code",
   "execution_count": 114,
   "metadata": {},
   "outputs": [],
   "source": [
    "x = df.groupby(['group']).user_id.count().reset_index()"
   ]
  },
  {
   "cell_type": "code",
   "execution_count": 115,
   "metadata": {},
   "outputs": [
    {
     "output_type": "execute_result",
     "data": {
      "text/plain": "  group  user_id\n0     A     1666\n1     B     1666\n2     C     1666",
      "text/html": "<div>\n<style scoped>\n    .dataframe tbody tr th:only-of-type {\n        vertical-align: middle;\n    }\n\n    .dataframe tbody tr th {\n        vertical-align: top;\n    }\n\n    .dataframe thead th {\n        text-align: right;\n    }\n</style>\n<table border=\"1\" class=\"dataframe\">\n  <thead>\n    <tr style=\"text-align: right;\">\n      <th></th>\n      <th>group</th>\n      <th>user_id</th>\n    </tr>\n  </thead>\n  <tbody>\n    <tr>\n      <th>0</th>\n      <td>A</td>\n      <td>1666</td>\n    </tr>\n    <tr>\n      <th>1</th>\n      <td>B</td>\n      <td>1666</td>\n    </tr>\n    <tr>\n      <th>2</th>\n      <td>C</td>\n      <td>1666</td>\n    </tr>\n  </tbody>\n</table>\n</div>"
     },
     "metadata": {},
     "execution_count": 115
    }
   ],
   "source": [
    "x"
   ]
  },
  {
   "cell_type": "code",
   "execution_count": 118,
   "metadata": {},
   "outputs": [],
   "source": [
    "pvalueB = binom_test(183, n = 1666, p = p_clicks_199)"
   ]
  },
  {
   "cell_type": "code",
   "execution_count": 119,
   "metadata": {},
   "outputs": [
    {
     "output_type": "execute_result",
     "data": {
      "text/plain": "0.20660209246555486"
     },
     "metadata": {},
     "execution_count": 119
    }
   ],
   "source": [
    "pvalueB"
   ]
  },
  {
   "cell_type": "code",
   "execution_count": 120,
   "metadata": {},
   "outputs": [],
   "source": [
    "pvalueC = binom_test(83, n = 1666, p = p_clicks_499)"
   ]
  },
  {
   "cell_type": "code",
   "execution_count": 121,
   "metadata": {},
   "outputs": [
    {
     "output_type": "execute_result",
     "data": {
      "text/plain": "0.045623672477172125"
     },
     "metadata": {},
     "execution_count": 121
    }
   ],
   "source": [
    "pvalueC"
   ]
  },
  {
   "cell_type": "markdown",
   "metadata": {},
   "source": [
    "since pvalueC is less than 0.05 we can reject the null hypothesis and conclude that the probability of getting the expected purchase rate for 4.99 is statistically different than 0.040096"
   ]
  },
  {
   "cell_type": "code",
   "execution_count": null,
   "metadata": {},
   "outputs": [],
   "source": []
  }
 ]
}